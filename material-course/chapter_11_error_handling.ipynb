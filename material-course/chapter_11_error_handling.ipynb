{
 "cells": [
  {
   "cell_type": "code",
   "execution_count": null,
   "id": "92644ecd",
   "metadata": {},
   "outputs": [
    {
     "name": "stdout",
     "output_type": "stream",
     "text": [
      "You have choose 4\n"
     ]
    }
   ],
   "source": [
    "try:\n",
    "    number = int(input(\"Please input a number: \"))\n",
    "    print(f\"You have choose {number}\")\n",
    "except ValueError:\n",
    "    print(\"Please input a valid number\")"
   ]
  },
  {
   "cell_type": "markdown",
   "id": "66fbddc5",
   "metadata": {},
   "source": [
    "ValueError to handle if there is input or value not as defined"
   ]
  },
  {
   "cell_type": "code",
   "execution_count": null,
   "id": "f625f0af",
   "metadata": {},
   "outputs": [
    {
     "name": "stdout",
     "output_type": "stream",
     "text": [
      "each person will pay about Rp. 400,000.0\n"
     ]
    }
   ],
   "source": [
    "try:\n",
    "    total = 2000000\n",
    "    participant = int(input(\"Input a number of people in the group: \"))\n",
    "    cost = total/participant\n",
    "    print(f\"each person will pay about Rp. {cost:,}\")\n",
    "except ZeroDivisionError:\n",
    "    print(\"member of group cant be 0\")"
   ]
  },
  {
   "cell_type": "markdown",
   "id": "2430b01b",
   "metadata": {},
   "source": [
    "ZeroDivisionError to handle if there is division with zero"
   ]
  },
  {
   "cell_type": "code",
   "execution_count": null,
   "id": "11af7f1f",
   "metadata": {},
   "outputs": [
    {
     "name": "stdout",
     "output_type": "stream",
     "text": [
      "Please input a valid number\n"
     ]
    }
   ],
   "source": [
    "try:\n",
    "    total = 2000000\n",
    "    participant = int(input(\"Input a number of people in the group: \"))\n",
    "    cost = total/participant\n",
    "    print(f\"each person will pay about Rp. {cost:,}\")\n",
    "except ZeroDivisionError:\n",
    "    print(\"member of group cant be 0\")\n",
    "except ValueError:\n",
    "    print(\"Please input a valid number\")"
   ]
  },
  {
   "cell_type": "markdown",
   "id": "be22664d",
   "metadata": {},
   "source": [
    "you can have multiple exception to handle multiple alert or warning"
   ]
  },
  {
   "cell_type": "code",
   "execution_count": 26,
   "id": "410816bf",
   "metadata": {},
   "outputs": [
    {
     "name": "stdout",
     "output_type": "stream",
     "text": [
      "member of group cant be 0 or not valid input\n"
     ]
    }
   ],
   "source": [
    "try:\n",
    "    total = 2000000\n",
    "    participant = int(input(\"Input a number of people in the group: \"))\n",
    "    cost = total/participant\n",
    "    print(f\"each person will pay about Rp. {cost:,}\")\n",
    "except (ZeroDivisionError,ValueError):\n",
    "    print(\"member of group cant be 0 or not valid input\")"
   ]
  },
  {
   "cell_type": "markdown",
   "id": "27e8933e",
   "metadata": {},
   "source": [
    "and multiple exception could grouped in one except if you want to handle it with the same handling"
   ]
  },
  {
   "cell_type": "code",
   "execution_count": null,
   "id": "f6a88422",
   "metadata": {},
   "outputs": [
    {
     "name": "stdout",
     "output_type": "stream",
     "text": [
      "Please check your input\n"
     ]
    }
   ],
   "source": [
    "garbage_weight = []\n",
    "count = int(input(\"How many times have you recycling garbage: \"))\n",
    "for i in range(count):\n",
    "    if i == 0:\n",
    "        weight = input(f\"Put a weight of your {i+1}st recycle: \")\n",
    "        garbage_weight.append(weight)\n",
    "    elif i == 1:\n",
    "        weight = input(f\"Put a weight of your {i+1}nd recycle: \")\n",
    "        garbage_weight.append(weight)\n",
    "    elif i == 2:\n",
    "        weight = input(f\"Put a weight of your {i+1}rd recycle: \")\n",
    "        garbage_weight.append(weight)\n",
    "    elif i > 2:\n",
    "        weight = input(f\"Put a weight of your {i+1}th recycle: \")\n",
    "        garbage_weight.append(weight)\n",
    "    \n",
    "total = 0\n",
    "try:\n",
    "    for i in garbage_weight:\n",
    "        total+=i\n",
    "    print(total)\n",
    "except TypeError:\n",
    "    print(\"Please check your input\")"
   ]
  },
  {
   "cell_type": "markdown",
   "id": "3914a296",
   "metadata": {},
   "source": [
    "TypeError to handle if there is an operation or function applied to an object of inappropriate type"
   ]
  },
  {
   "cell_type": "code",
   "execution_count": null,
   "id": "10c3c4ee",
   "metadata": {},
   "outputs": [
    {
     "name": "stdout",
     "output_type": "stream",
     "text": [
      "The member with index 1 is Doni\n"
     ]
    }
   ],
   "source": [
    "participant_list = [\"Doni\", \"Ihsan\",\"Pandu\",\"Ilfi\"]\n",
    "try:\n",
    "    index = int(input(\"Please input of member enrollment number you want to see (1-4): \"))\n",
    "    print(f\"The member with index {index} is {participant_list[index-1]}\")\n",
    "except IndexError:\n",
    "    print(\"Out of index!\")"
   ]
  },
  {
   "cell_type": "markdown",
   "id": "5ff2443d",
   "metadata": {},
   "source": [
    "IndexError to handle if there is index out of range"
   ]
  },
  {
   "cell_type": "code",
   "execution_count": 36,
   "id": "5e8026a1",
   "metadata": {},
   "outputs": [
    {
     "name": "stdout",
     "output_type": "stream",
     "text": [
      "Ihsan was not a member\n"
     ]
    }
   ],
   "source": [
    "donation_list = {\"Doni\":50000,\"Aldi\":30000,\"Hendri\":100000}\n",
    "try:\n",
    "    name = input(\"Input a member name you would like to see:\")\n",
    "    print(f\"{name} have donated a total of Rp. {donation_list[name]:,}\")\n",
    "except KeyError:\n",
    "    print(f\"{name} was not a member\")"
   ]
  },
  {
   "cell_type": "markdown",
   "id": "dd31f5b4",
   "metadata": {},
   "source": [
    "KeyError raised when you access key  in dict that is not a member"
   ]
  }
 ],
 "metadata": {
  "kernelspec": {
   "display_name": "Python 3",
   "language": "python",
   "name": "python3"
  },
  "language_info": {
   "codemirror_mode": {
    "name": "ipython",
    "version": 3
   },
   "file_extension": ".py",
   "mimetype": "text/x-python",
   "name": "python",
   "nbconvert_exporter": "python",
   "pygments_lexer": "ipython3",
   "version": "3.9.13"
  }
 },
 "nbformat": 4,
 "nbformat_minor": 5
}
