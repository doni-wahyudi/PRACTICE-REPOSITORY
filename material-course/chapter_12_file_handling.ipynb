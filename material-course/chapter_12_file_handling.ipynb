{
 "cells": [
  {
   "cell_type": "code",
   "execution_count": 25,
   "id": "621b7ad0",
   "metadata": {},
   "outputs": [],
   "source": [
    "member_list = [\"Doni\",\"Ihsan\",\"Pandu\"]\n",
    "with open(\"member_list.txt\",\"w\") as file:\n",
    "    file.write(str(member_list))"
   ]
  },
  {
   "cell_type": "code",
   "execution_count": null,
   "id": "673706a0",
   "metadata": {},
   "outputs": [
    {
     "name": "stdout",
     "output_type": "stream",
     "text": [
      "['Doni', 'Ihsan', 'Pandu', 'Ilfi']\n"
     ]
    }
   ],
   "source": [
    "import ast\n",
    "\n",
    "with open(\"member_list.txt\",\"r\") as file:\n",
    "    content = file.read()\n",
    "\n",
    "member_list = ast.literal_eval(content)\n",
    "member_list.append(\"Ilfi\")\n",
    "print(member_list)"
   ]
  },
  {
   "cell_type": "code",
   "execution_count": 16,
   "id": "85624eda",
   "metadata": {},
   "outputs": [],
   "source": [
    "member_list_VIP = [\"Doni\",\"Ihsan\",\"Pandu\"]\n",
    "member_list_normal = [\"Andi\",\"Rini\",\"Laras\"]\n",
    "with open(\"member_list.txt\",\"w\") as file:\n",
    "    file.write(str(member_list_VIP)+\"\\n\")\n",
    "    file.write(str(member_list_normal)+\"\\n\")"
   ]
  },
  {
   "cell_type": "code",
   "execution_count": null,
   "id": "73fb3bd9",
   "metadata": {},
   "outputs": [
    {
     "name": "stdout",
     "output_type": "stream",
     "text": [
      "['Doni', 'Ihsan', 'Pandu']\n",
      "['Andi', 'Rini', 'Laras']\n"
     ]
    }
   ],
   "source": [
    "with open(\"member_list.txt\",\"r\") as file:\n",
    "    for line in file:\n",
    "        print(line.strip())"
   ]
  },
  {
   "cell_type": "code",
   "execution_count": null,
   "id": "b48c7a91",
   "metadata": {},
   "outputs": [
    {
     "name": "stdout",
     "output_type": "stream",
     "text": [
      "['Doni', 'Ihsan', 'Pandu']\n",
      "['Andi', 'Rini', 'Laras']\n"
     ]
    }
   ],
   "source": [
    "import ast\n",
    "\n",
    "try:\n",
    "    with open(\"member_list.txt\",\"r\") as file:\n",
    "        lines = file.readlines()\n",
    "\n",
    "    member_list_VIP = ast.literal_eval(lines[0])\n",
    "    member_list_normal = ast.literal_eval(lines[1])\n",
    "\n",
    "    print(member_list_VIP)\n",
    "    print(member_list_normal)\n",
    "except FileNotFoundError:\n",
    "    print(\"File member_list.txt not found\")"
   ]
  },
  {
   "cell_type": "code",
   "execution_count": 30,
   "id": "4ad7c25b",
   "metadata": {},
   "outputs": [
    {
     "name": "stdout",
     "output_type": "stream",
     "text": [
      "['Doni', 'Ihsan', 'Pandu', 'Ilfi']\n"
     ]
    }
   ],
   "source": [
    "import ast\n",
    "\n",
    "member_list = [\"Doni\",\"Ihsan\",\"Pandu\"]\n",
    "with open(\"member_list.txt\",\"w\") as file:\n",
    "    file.write(str(member_list))\n",
    "\n",
    "\n",
    "with open(\"member_list.txt\",\"r\") as file:\n",
    "    content = file.read()\n",
    "\n",
    "member_list = ast.literal_eval(content)\n",
    "member_list.append(\"Ilfi\")\n",
    "print(member_list)\n",
    "\n",
    "with open(\"member_list.txt\",\"w\") as file:\n",
    "    file.write(str(member_list))"
   ]
  },
  {
   "cell_type": "code",
   "execution_count": 29,
   "id": "5306fbdc",
   "metadata": {},
   "outputs": [
    {
     "name": "stdout",
     "output_type": "stream",
     "text": [
      "{'Doni': 200000, 'Reni': 150000, 'Syifa': 70000, 'Rehan': 300000}\n"
     ]
    }
   ],
   "source": [
    "import ast\n",
    "\n",
    "donation = {\"Doni\":200000,\"Reni\":150000,\"Syifa\":70000}\n",
    "with open(\"donation_list.txt\",\"w\") as file:\n",
    "    file.write(str(donation))\n",
    "\n",
    "with open(\"donation_list.txt\",\"r\") as file:\n",
    "    content = file.read()\n",
    "\n",
    "donation_list = ast.literal_eval(content)\n",
    "donation_list[\"Rehan\"] = 300000\n",
    "print(donation_list)"
   ]
  },
  {
   "cell_type": "code",
   "execution_count": 38,
   "id": "5f5e35d3",
   "metadata": {},
   "outputs": [
    {
     "name": "stdout",
     "output_type": "stream",
     "text": [
      "Hi Reno, it seems you haven't registered yet.\n",
      "invalid literal for int() with base 10: 'abc'\n"
     ]
    }
   ],
   "source": [
    "import ast\n",
    "\n",
    "try:\n",
    "    with open(\"donation_list.txt\",\"r\") as file:\n",
    "        content = file.read()\n",
    "\n",
    "    donation_list = ast.literal_eval(content)\n",
    "\n",
    "    check_member = input(\"Please input your name: \")\n",
    "    if check_member in donation_list:\n",
    "        print(f\"Hi {check_member}, your total donation is Rp. {donation_list[check_member]}\")\n",
    "    else:\n",
    "        print(f\"Hi {check_member}, it seems you haven't registered yet.\")\n",
    "        option = input(\"Would you like to donate to us for green restoration program? (Y/N): \")\n",
    "        if option.lower() == \"y\":\n",
    "            donate = int(input(\"How much you would like to donate: \"))\n",
    "            donation_list[check_member] = donate\n",
    "            print(f\"Thankyou for your support {check_member}!\")\n",
    "        else:\n",
    "            print(\"Got it, thankyou for your visit!\")\n",
    "    with open(\"donation_list.txt\",\"w\") as file:\n",
    "        file.write(str(donation_list))\n",
    "\n",
    "except Exception as e:\n",
    "    print(e)"
   ]
  }
 ],
 "metadata": {
  "kernelspec": {
   "display_name": "Python 3",
   "language": "python",
   "name": "python3"
  },
  "language_info": {
   "codemirror_mode": {
    "name": "ipython",
    "version": 3
   },
   "file_extension": ".py",
   "mimetype": "text/x-python",
   "name": "python",
   "nbconvert_exporter": "python",
   "pygments_lexer": "ipython3",
   "version": "3.9.13"
  }
 },
 "nbformat": 4,
 "nbformat_minor": 5
}
